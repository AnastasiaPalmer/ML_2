{
  "nbformat": 4,
  "nbformat_minor": 0,
  "metadata": {
    "colab": {
      "provenance": []
    },
    "kernelspec": {
      "name": "python3",
      "display_name": "Python 3"
    },
    "language_info": {
      "name": "python"
    }
  },
  "cells": [
    {
      "cell_type": "markdown",
      "source": [
        "Лабораторна робота 2.\n",
        "Аналіз даних. Бібліотека Pandas"
      ],
      "metadata": {
        "id": "plnxIzOMEW9s"
      }
    },
    {
      "cell_type": "markdown",
      "source": [
        "Імпорт бібліотек та зчитування даних"
      ],
      "metadata": {
        "id": "tbkma-Q5Eay_"
      }
    },
    {
      "cell_type": "code",
      "execution_count": 3,
      "metadata": {
        "id": "y9zF6L-RCcaw"
      },
      "outputs": [],
      "source": [
        "import pandas as pd\n",
        "import numpy as np\n",
        "import matplotlib.pyplot as plt\n",
        "\n",
        "# Зчитуємо дані з Вікіпедії\n",
        "url = \"https://en.wikipedia.org/wiki/List_of_countries_by_GDP_(nominal)\"\n",
        "tables = pd.read_html(url)\n",
        "gdp_df = tables[2]\n"
      ]
    },
    {
      "cell_type": "markdown",
      "source": [
        "#Завдання 1"
      ],
      "metadata": {
        "id": "w6CpGdVVLqI-"
      }
    },
    {
      "cell_type": "markdown",
      "source": [
        "1. Вивести перших 5 рядків."
      ],
      "metadata": {
        "id": "X-ZHDqt9En7H"
      }
    },
    {
      "cell_type": "code",
      "source": [
        "gdp_df.head()"
      ],
      "metadata": {
        "colab": {
          "base_uri": "https://localhost:8080/",
          "height": 237
        },
        "id": "WwSnMD1ZEYnv",
        "outputId": "ac50fb3d-cbec-4853-e625-8e9ce36c72fa"
      },
      "execution_count": 4,
      "outputs": [
        {
          "output_type": "execute_result",
          "data": {
            "text/plain": [
              "  Country/Territory IMF[1][13]            World Bank[14]             \\\n",
              "  Country/Territory   Forecast       Year       Estimate       Year   \n",
              "0             World  109529216       2024      105435540       2023   \n",
              "1     United States   28781083       2024       27360935       2023   \n",
              "2             China   18532633  [n 1]2024       17794782  [n 3]2023   \n",
              "3           Germany    4591100       2024        4456081       2023   \n",
              "4             Japan    4110452       2024        4212945       2023   \n",
              "\n",
              "  United Nations[15]             \n",
              "            Estimate       Year  \n",
              "0          100834796       2022  \n",
              "1           25744100       2022  \n",
              "2           17963170  [n 1]2022  \n",
              "3            4076923       2022  \n",
              "4            4232173       2022  "
            ],
            "text/html": [
              "\n",
              "  <div id=\"df-dfb01665-50a9-4ca1-b0d9-8d14b07d75bb\" class=\"colab-df-container\">\n",
              "    <div>\n",
              "<style scoped>\n",
              "    .dataframe tbody tr th:only-of-type {\n",
              "        vertical-align: middle;\n",
              "    }\n",
              "\n",
              "    .dataframe tbody tr th {\n",
              "        vertical-align: top;\n",
              "    }\n",
              "\n",
              "    .dataframe thead tr th {\n",
              "        text-align: left;\n",
              "    }\n",
              "</style>\n",
              "<table border=\"1\" class=\"dataframe\">\n",
              "  <thead>\n",
              "    <tr>\n",
              "      <th></th>\n",
              "      <th>Country/Territory</th>\n",
              "      <th colspan=\"2\" halign=\"left\">IMF[1][13]</th>\n",
              "      <th colspan=\"2\" halign=\"left\">World Bank[14]</th>\n",
              "      <th colspan=\"2\" halign=\"left\">United Nations[15]</th>\n",
              "    </tr>\n",
              "    <tr>\n",
              "      <th></th>\n",
              "      <th>Country/Territory</th>\n",
              "      <th>Forecast</th>\n",
              "      <th>Year</th>\n",
              "      <th>Estimate</th>\n",
              "      <th>Year</th>\n",
              "      <th>Estimate</th>\n",
              "      <th>Year</th>\n",
              "    </tr>\n",
              "  </thead>\n",
              "  <tbody>\n",
              "    <tr>\n",
              "      <th>0</th>\n",
              "      <td>World</td>\n",
              "      <td>109529216</td>\n",
              "      <td>2024</td>\n",
              "      <td>105435540</td>\n",
              "      <td>2023</td>\n",
              "      <td>100834796</td>\n",
              "      <td>2022</td>\n",
              "    </tr>\n",
              "    <tr>\n",
              "      <th>1</th>\n",
              "      <td>United States</td>\n",
              "      <td>28781083</td>\n",
              "      <td>2024</td>\n",
              "      <td>27360935</td>\n",
              "      <td>2023</td>\n",
              "      <td>25744100</td>\n",
              "      <td>2022</td>\n",
              "    </tr>\n",
              "    <tr>\n",
              "      <th>2</th>\n",
              "      <td>China</td>\n",
              "      <td>18532633</td>\n",
              "      <td>[n 1]2024</td>\n",
              "      <td>17794782</td>\n",
              "      <td>[n 3]2023</td>\n",
              "      <td>17963170</td>\n",
              "      <td>[n 1]2022</td>\n",
              "    </tr>\n",
              "    <tr>\n",
              "      <th>3</th>\n",
              "      <td>Germany</td>\n",
              "      <td>4591100</td>\n",
              "      <td>2024</td>\n",
              "      <td>4456081</td>\n",
              "      <td>2023</td>\n",
              "      <td>4076923</td>\n",
              "      <td>2022</td>\n",
              "    </tr>\n",
              "    <tr>\n",
              "      <th>4</th>\n",
              "      <td>Japan</td>\n",
              "      <td>4110452</td>\n",
              "      <td>2024</td>\n",
              "      <td>4212945</td>\n",
              "      <td>2023</td>\n",
              "      <td>4232173</td>\n",
              "      <td>2022</td>\n",
              "    </tr>\n",
              "  </tbody>\n",
              "</table>\n",
              "</div>\n",
              "    <div class=\"colab-df-buttons\">\n",
              "\n",
              "  <div class=\"colab-df-container\">\n",
              "    <button class=\"colab-df-convert\" onclick=\"convertToInteractive('df-dfb01665-50a9-4ca1-b0d9-8d14b07d75bb')\"\n",
              "            title=\"Convert this dataframe to an interactive table.\"\n",
              "            style=\"display:none;\">\n",
              "\n",
              "  <svg xmlns=\"http://www.w3.org/2000/svg\" height=\"24px\" viewBox=\"0 -960 960 960\">\n",
              "    <path d=\"M120-120v-720h720v720H120Zm60-500h600v-160H180v160Zm220 220h160v-160H400v160Zm0 220h160v-160H400v160ZM180-400h160v-160H180v160Zm440 0h160v-160H620v160ZM180-180h160v-160H180v160Zm440 0h160v-160H620v160Z\"/>\n",
              "  </svg>\n",
              "    </button>\n",
              "\n",
              "  <style>\n",
              "    .colab-df-container {\n",
              "      display:flex;\n",
              "      gap: 12px;\n",
              "    }\n",
              "\n",
              "    .colab-df-convert {\n",
              "      background-color: #E8F0FE;\n",
              "      border: none;\n",
              "      border-radius: 50%;\n",
              "      cursor: pointer;\n",
              "      display: none;\n",
              "      fill: #1967D2;\n",
              "      height: 32px;\n",
              "      padding: 0 0 0 0;\n",
              "      width: 32px;\n",
              "    }\n",
              "\n",
              "    .colab-df-convert:hover {\n",
              "      background-color: #E2EBFA;\n",
              "      box-shadow: 0px 1px 2px rgba(60, 64, 67, 0.3), 0px 1px 3px 1px rgba(60, 64, 67, 0.15);\n",
              "      fill: #174EA6;\n",
              "    }\n",
              "\n",
              "    .colab-df-buttons div {\n",
              "      margin-bottom: 4px;\n",
              "    }\n",
              "\n",
              "    [theme=dark] .colab-df-convert {\n",
              "      background-color: #3B4455;\n",
              "      fill: #D2E3FC;\n",
              "    }\n",
              "\n",
              "    [theme=dark] .colab-df-convert:hover {\n",
              "      background-color: #434B5C;\n",
              "      box-shadow: 0px 1px 3px 1px rgba(0, 0, 0, 0.15);\n",
              "      filter: drop-shadow(0px 1px 2px rgba(0, 0, 0, 0.3));\n",
              "      fill: #FFFFFF;\n",
              "    }\n",
              "  </style>\n",
              "\n",
              "    <script>\n",
              "      const buttonEl =\n",
              "        document.querySelector('#df-dfb01665-50a9-4ca1-b0d9-8d14b07d75bb button.colab-df-convert');\n",
              "      buttonEl.style.display =\n",
              "        google.colab.kernel.accessAllowed ? 'block' : 'none';\n",
              "\n",
              "      async function convertToInteractive(key) {\n",
              "        const element = document.querySelector('#df-dfb01665-50a9-4ca1-b0d9-8d14b07d75bb');\n",
              "        const dataTable =\n",
              "          await google.colab.kernel.invokeFunction('convertToInteractive',\n",
              "                                                    [key], {});\n",
              "        if (!dataTable) return;\n",
              "\n",
              "        const docLinkHtml = 'Like what you see? Visit the ' +\n",
              "          '<a target=\"_blank\" href=https://colab.research.google.com/notebooks/data_table.ipynb>data table notebook</a>'\n",
              "          + ' to learn more about interactive tables.';\n",
              "        element.innerHTML = '';\n",
              "        dataTable['output_type'] = 'display_data';\n",
              "        await google.colab.output.renderOutput(dataTable, element);\n",
              "        const docLink = document.createElement('div');\n",
              "        docLink.innerHTML = docLinkHtml;\n",
              "        element.appendChild(docLink);\n",
              "      }\n",
              "    </script>\n",
              "  </div>\n",
              "\n",
              "\n",
              "<div id=\"df-e115e5a3-6529-4860-be53-9e7ec5459489\">\n",
              "  <button class=\"colab-df-quickchart\" onclick=\"quickchart('df-e115e5a3-6529-4860-be53-9e7ec5459489')\"\n",
              "            title=\"Suggest charts\"\n",
              "            style=\"display:none;\">\n",
              "\n",
              "<svg xmlns=\"http://www.w3.org/2000/svg\" height=\"24px\"viewBox=\"0 0 24 24\"\n",
              "     width=\"24px\">\n",
              "    <g>\n",
              "        <path d=\"M19 3H5c-1.1 0-2 .9-2 2v14c0 1.1.9 2 2 2h14c1.1 0 2-.9 2-2V5c0-1.1-.9-2-2-2zM9 17H7v-7h2v7zm4 0h-2V7h2v10zm4 0h-2v-4h2v4z\"/>\n",
              "    </g>\n",
              "</svg>\n",
              "  </button>\n",
              "\n",
              "<style>\n",
              "  .colab-df-quickchart {\n",
              "      --bg-color: #E8F0FE;\n",
              "      --fill-color: #1967D2;\n",
              "      --hover-bg-color: #E2EBFA;\n",
              "      --hover-fill-color: #174EA6;\n",
              "      --disabled-fill-color: #AAA;\n",
              "      --disabled-bg-color: #DDD;\n",
              "  }\n",
              "\n",
              "  [theme=dark] .colab-df-quickchart {\n",
              "      --bg-color: #3B4455;\n",
              "      --fill-color: #D2E3FC;\n",
              "      --hover-bg-color: #434B5C;\n",
              "      --hover-fill-color: #FFFFFF;\n",
              "      --disabled-bg-color: #3B4455;\n",
              "      --disabled-fill-color: #666;\n",
              "  }\n",
              "\n",
              "  .colab-df-quickchart {\n",
              "    background-color: var(--bg-color);\n",
              "    border: none;\n",
              "    border-radius: 50%;\n",
              "    cursor: pointer;\n",
              "    display: none;\n",
              "    fill: var(--fill-color);\n",
              "    height: 32px;\n",
              "    padding: 0;\n",
              "    width: 32px;\n",
              "  }\n",
              "\n",
              "  .colab-df-quickchart:hover {\n",
              "    background-color: var(--hover-bg-color);\n",
              "    box-shadow: 0 1px 2px rgba(60, 64, 67, 0.3), 0 1px 3px 1px rgba(60, 64, 67, 0.15);\n",
              "    fill: var(--button-hover-fill-color);\n",
              "  }\n",
              "\n",
              "  .colab-df-quickchart-complete:disabled,\n",
              "  .colab-df-quickchart-complete:disabled:hover {\n",
              "    background-color: var(--disabled-bg-color);\n",
              "    fill: var(--disabled-fill-color);\n",
              "    box-shadow: none;\n",
              "  }\n",
              "\n",
              "  .colab-df-spinner {\n",
              "    border: 2px solid var(--fill-color);\n",
              "    border-color: transparent;\n",
              "    border-bottom-color: var(--fill-color);\n",
              "    animation:\n",
              "      spin 1s steps(1) infinite;\n",
              "  }\n",
              "\n",
              "  @keyframes spin {\n",
              "    0% {\n",
              "      border-color: transparent;\n",
              "      border-bottom-color: var(--fill-color);\n",
              "      border-left-color: var(--fill-color);\n",
              "    }\n",
              "    20% {\n",
              "      border-color: transparent;\n",
              "      border-left-color: var(--fill-color);\n",
              "      border-top-color: var(--fill-color);\n",
              "    }\n",
              "    30% {\n",
              "      border-color: transparent;\n",
              "      border-left-color: var(--fill-color);\n",
              "      border-top-color: var(--fill-color);\n",
              "      border-right-color: var(--fill-color);\n",
              "    }\n",
              "    40% {\n",
              "      border-color: transparent;\n",
              "      border-right-color: var(--fill-color);\n",
              "      border-top-color: var(--fill-color);\n",
              "    }\n",
              "    60% {\n",
              "      border-color: transparent;\n",
              "      border-right-color: var(--fill-color);\n",
              "    }\n",
              "    80% {\n",
              "      border-color: transparent;\n",
              "      border-right-color: var(--fill-color);\n",
              "      border-bottom-color: var(--fill-color);\n",
              "    }\n",
              "    90% {\n",
              "      border-color: transparent;\n",
              "      border-bottom-color: var(--fill-color);\n",
              "    }\n",
              "  }\n",
              "</style>\n",
              "\n",
              "  <script>\n",
              "    async function quickchart(key) {\n",
              "      const quickchartButtonEl =\n",
              "        document.querySelector('#' + key + ' button');\n",
              "      quickchartButtonEl.disabled = true;  // To prevent multiple clicks.\n",
              "      quickchartButtonEl.classList.add('colab-df-spinner');\n",
              "      try {\n",
              "        const charts = await google.colab.kernel.invokeFunction(\n",
              "            'suggestCharts', [key], {});\n",
              "      } catch (error) {\n",
              "        console.error('Error during call to suggestCharts:', error);\n",
              "      }\n",
              "      quickchartButtonEl.classList.remove('colab-df-spinner');\n",
              "      quickchartButtonEl.classList.add('colab-df-quickchart-complete');\n",
              "    }\n",
              "    (() => {\n",
              "      let quickchartButtonEl =\n",
              "        document.querySelector('#df-e115e5a3-6529-4860-be53-9e7ec5459489 button');\n",
              "      quickchartButtonEl.style.display =\n",
              "        google.colab.kernel.accessAllowed ? 'block' : 'none';\n",
              "    })();\n",
              "  </script>\n",
              "</div>\n",
              "    </div>\n",
              "  </div>\n"
            ],
            "application/vnd.google.colaboratory.intrinsic+json": {
              "type": "dataframe",
              "variable_name": "gdp_df",
              "summary": "{\n  \"name\": \"gdp_df\",\n  \"rows\": 210,\n  \"fields\": [\n    {\n      \"column\": [\n        \"Country/Territory\",\n        \"Country/Territory\"\n      ],\n      \"properties\": {\n        \"dtype\": \"string\",\n        \"num_unique_values\": 210,\n        \"samples\": [\n          \"United Arab Emirates\",\n          \"Suriname\",\n          \"Azerbaijan\"\n        ],\n        \"semantic_type\": \"\",\n        \"description\": \"\"\n      }\n    },\n    {\n      \"column\": [\n        \"IMF[1][13]\",\n        \"Forecast\"\n      ],\n      \"properties\": {\n        \"dtype\": \"string\",\n        \"num_unique_values\": 196,\n        \"samples\": [\n          \"15873\",\n          \"29078\",\n          \"1475690\"\n        ],\n        \"semantic_type\": \"\",\n        \"description\": \"\"\n      }\n    },\n    {\n      \"column\": [\n        \"IMF[1][13]\",\n        \"Year\"\n      ],\n      \"properties\": {\n        \"dtype\": \"category\",\n        \"num_unique_values\": 13,\n        \"samples\": [\n          \"[n 12]2023\",\n          \"[n 10]2024\",\n          \"2024\"\n        ],\n        \"semantic_type\": \"\",\n        \"description\": \"\"\n      }\n    },\n    {\n      \"column\": [\n        \"World Bank[14]\",\n        \"Estimate\"\n      ],\n      \"properties\": {\n        \"dtype\": \"string\",\n        \"num_unique_values\": 203,\n        \"samples\": [\n          \"1580695\",\n          \"2254851\",\n          \"22978\"\n        ],\n        \"semantic_type\": \"\",\n        \"description\": \"\"\n      }\n    },\n    {\n      \"column\": [\n        \"World Bank[14]\",\n        \"Year\"\n      ],\n      \"properties\": {\n        \"dtype\": \"category\",\n        \"num_unique_values\": 10,\n        \"samples\": [\n          \"[n 14]2023\",\n          \"[n 3]2023\",\n          \"[n 10]2023\"\n        ],\n        \"semantic_type\": \"\",\n        \"description\": \"\"\n      }\n    },\n    {\n      \"column\": [\n        \"United Nations[15]\",\n        \"Estimate\"\n      ],\n      \"properties\": {\n        \"dtype\": \"string\",\n        \"num_unique_values\": 210,\n        \"samples\": [\n          \"507063\",\n          \"3620\",\n          \"78721\"\n        ],\n        \"semantic_type\": \"\",\n        \"description\": \"\"\n      }\n    },\n    {\n      \"column\": [\n        \"United Nations[15]\",\n        \"Year\"\n      ],\n      \"properties\": {\n        \"dtype\": \"category\",\n        \"num_unique_values\": 10,\n        \"samples\": [\n          \"[n 13]2022\",\n          \"[n 1]2022\",\n          \"[n 8]2022\"\n        ],\n        \"semantic_type\": \"\",\n        \"description\": \"\"\n      }\n    }\n  ]\n}"
            }
          },
          "metadata": {},
          "execution_count": 4
        }
      ]
    },
    {
      "cell_type": "markdown",
      "source": [
        "2. Визначити розмір датасета.\n",
        "\n"
      ],
      "metadata": {
        "id": "yR29uXvbEycP"
      }
    },
    {
      "cell_type": "code",
      "source": [
        "gdp_df.shape\n"
      ],
      "metadata": {
        "colab": {
          "base_uri": "https://localhost:8080/"
        },
        "id": "oxzn6iMYE0uJ",
        "outputId": "061d6a29-6353-4b71-e4d8-8366bb015039"
      },
      "execution_count": null,
      "outputs": [
        {
          "output_type": "execute_result",
          "data": {
            "text/plain": [
              "(210, 7)"
            ]
          },
          "metadata": {},
          "execution_count": 49
        }
      ]
    },
    {
      "cell_type": "markdown",
      "source": [
        "3. Визначити оптимальну кількість стовпців."
      ],
      "metadata": {
        "id": "pSsPP3mbE11O"
      }
    },
    {
      "cell_type": "code",
      "source": [
        "gdp_df.columns\n"
      ],
      "metadata": {
        "colab": {
          "base_uri": "https://localhost:8080/"
        },
        "id": "0kBBBu7ZE3tQ",
        "outputId": "0401968e-e704-4faa-8aa6-679d6f3b5754"
      },
      "execution_count": null,
      "outputs": [
        {
          "output_type": "execute_result",
          "data": {
            "text/plain": [
              "MultiIndex([( 'Country/Territory', 'Country/Territory'),\n",
              "            (        'IMF[1][13]',          'Forecast'),\n",
              "            (        'IMF[1][13]',              'Year'),\n",
              "            (    'World Bank[14]',          'Estimate'),\n",
              "            (    'World Bank[14]',              'Year'),\n",
              "            ('United Nations[15]',          'Estimate'),\n",
              "            ('United Nations[15]',              'Year')],\n",
              "           )"
            ]
          },
          "metadata": {},
          "execution_count": 50
        }
      ]
    },
    {
      "cell_type": "markdown",
      "source": [
        "4. Змінити назви стовпців на більш зручні, наприклад\n",
        "Country MVF_2024 WorldBank_2023 OON_2022\n"
      ],
      "metadata": {
        "id": "OLyMEUxGE4mJ"
      }
    },
    {
      "cell_type": "code",
      "source": [
        "old_columns = [\n",
        "    ('Country/Territory', 'Country/Territory'),\n",
        "    ('IMF[1][13]', 'Forecast'),\n",
        "    ('IMF[1][13]', 'Year'),\n",
        "    ('World Bank[14]', 'Estimate'),\n",
        "    ('World Bank[14]', 'Year'),\n",
        "    ('United Nations[15]', 'Estimate'),\n",
        "    ('United Nations[15]', 'Year')\n",
        "    ]\n",
        "\n",
        "new_columns = [\n",
        "    'Country',\n",
        "    'IMF_Forecast',\n",
        "    'IMF_Year',\n",
        "    'WorldBank_Estimate',\n",
        "    'WorldBank_Year',\n",
        "    'UN_Estimate',\n",
        "    'UN_Year'\n",
        "    ]\n",
        "\n",
        "gdp_df.columns = new_columns\n",
        "gdp_df.head"
      ],
      "metadata": {
        "colab": {
          "base_uri": "https://localhost:8080/",
          "height": 186
        },
        "id": "rIb9ShlNE6Vo",
        "outputId": "44689748-092d-48f8-9812-5452d5ceb1d3"
      },
      "execution_count": null,
      "outputs": [
        {
          "output_type": "execute_result",
          "data": {
            "text/plain": [
              "<bound method NDFrame.head of               Country IMF_Forecast   IMF_Year WorldBank_Estimate  \\\n",
              "0               World    109529216       2024          105435540   \n",
              "1       United States     28781083       2024           27360935   \n",
              "2               China     18532633  [n 1]2024           17794782   \n",
              "3             Germany      4591100       2024            4456081   \n",
              "4               Japan      4110452       2024            4212945   \n",
              "..                ...          ...        ...                ...   \n",
              "205          Kiribati          311       2024                279   \n",
              "206             Palau          308       2024                263   \n",
              "207  Marshall Islands          305       2024                284   \n",
              "208             Nauru          161       2024                154   \n",
              "209            Tuvalu           66       2024                 62   \n",
              "\n",
              "    WorldBank_Year UN_Estimate    UN_Year  \n",
              "0             2023   100834796       2022  \n",
              "1             2023    25744100       2022  \n",
              "2        [n 3]2023    17963170  [n 1]2022  \n",
              "3             2023     4076923       2022  \n",
              "4             2023     4232173       2022  \n",
              "..             ...         ...        ...  \n",
              "205           2023         223       2022  \n",
              "206           2023         225       2022  \n",
              "207           2023         279       2022  \n",
              "208           2023         147       2022  \n",
              "209           2023          59       2022  \n",
              "\n",
              "[210 rows x 7 columns]>"
            ],
            "text/html": [
              "<div style=\"max-width:800px; border: 1px solid var(--colab-border-color);\"><style>\n",
              "      pre.function-repr-contents {\n",
              "        overflow-x: auto;\n",
              "        padding: 8px 12px;\n",
              "        max-height: 500px;\n",
              "      }\n",
              "\n",
              "      pre.function-repr-contents.function-repr-contents-collapsed {\n",
              "        cursor: pointer;\n",
              "        max-height: 100px;\n",
              "      }\n",
              "    </style>\n",
              "    <pre style=\"white-space: initial; background:\n",
              "         var(--colab-secondary-surface-color); padding: 8px 12px;\n",
              "         border-bottom: 1px solid var(--colab-border-color);\"><b>pandas.core.generic.NDFrame.head</b><br/>def head(n: int=5) -&gt; Self</pre><pre class=\"function-repr-contents function-repr-contents-collapsed\" style=\"\"><a class=\"filepath\" style=\"display:none\" href=\"#\">/usr/local/lib/python3.10/dist-packages/pandas/core/generic.py</a>Return the first `n` rows.\n",
              "\n",
              "This function returns the first `n` rows for the object based\n",
              "on position. It is useful for quickly testing if your object\n",
              "has the right type of data in it.\n",
              "\n",
              "For negative values of `n`, this function returns all rows except\n",
              "the last `|n|` rows, equivalent to ``df[:n]``.\n",
              "\n",
              "If n is larger than the number of rows, this function returns all rows.\n",
              "\n",
              "Parameters\n",
              "----------\n",
              "n : int, default 5\n",
              "    Number of rows to select.\n",
              "\n",
              "Returns\n",
              "-------\n",
              "same type as caller\n",
              "    The first `n` rows of the caller object.\n",
              "\n",
              "See Also\n",
              "--------\n",
              "DataFrame.tail: Returns the last `n` rows.\n",
              "\n",
              "Examples\n",
              "--------\n",
              "&gt;&gt;&gt; df = pd.DataFrame({&#x27;animal&#x27;: [&#x27;alligator&#x27;, &#x27;bee&#x27;, &#x27;falcon&#x27;, &#x27;lion&#x27;,\n",
              "...                    &#x27;monkey&#x27;, &#x27;parrot&#x27;, &#x27;shark&#x27;, &#x27;whale&#x27;, &#x27;zebra&#x27;]})\n",
              "&gt;&gt;&gt; df\n",
              "      animal\n",
              "0  alligator\n",
              "1        bee\n",
              "2     falcon\n",
              "3       lion\n",
              "4     monkey\n",
              "5     parrot\n",
              "6      shark\n",
              "7      whale\n",
              "8      zebra\n",
              "\n",
              "Viewing the first 5 lines\n",
              "\n",
              "&gt;&gt;&gt; df.head()\n",
              "      animal\n",
              "0  alligator\n",
              "1        bee\n",
              "2     falcon\n",
              "3       lion\n",
              "4     monkey\n",
              "\n",
              "Viewing the first `n` lines (three in this case)\n",
              "\n",
              "&gt;&gt;&gt; df.head(3)\n",
              "      animal\n",
              "0  alligator\n",
              "1        bee\n",
              "2     falcon\n",
              "\n",
              "For negative values of `n`\n",
              "\n",
              "&gt;&gt;&gt; df.head(-3)\n",
              "      animal\n",
              "0  alligator\n",
              "1        bee\n",
              "2     falcon\n",
              "3       lion\n",
              "4     monkey\n",
              "5     parrot</pre>\n",
              "      <script>\n",
              "      if (google.colab.kernel.accessAllowed && google.colab.files && google.colab.files.view) {\n",
              "        for (const element of document.querySelectorAll('.filepath')) {\n",
              "          element.style.display = 'block'\n",
              "          element.onclick = (event) => {\n",
              "            event.preventDefault();\n",
              "            event.stopPropagation();\n",
              "            google.colab.files.view(element.textContent, 5729);\n",
              "          };\n",
              "        }\n",
              "      }\n",
              "      for (const element of document.querySelectorAll('.function-repr-contents')) {\n",
              "        element.onclick = (event) => {\n",
              "          event.preventDefault();\n",
              "          event.stopPropagation();\n",
              "          element.classList.toggle('function-repr-contents-collapsed');\n",
              "        };\n",
              "      }\n",
              "      </script>\n",
              "      </div>"
            ]
          },
          "metadata": {},
          "execution_count": 51
        }
      ]
    },
    {
      "cell_type": "code",
      "source": [
        "selected_columns = {\n",
        "    'IMF_Forecast': 'MVF_2024',\n",
        "    'WorldBank_Estimate': 'WorldBank_2023',\n",
        "    'UN_Estimate': 'OON_2022'\n",
        "}\n",
        "\n",
        "df_new = gdp_df[['Country'] + list(selected_columns.keys())]\n",
        "\n",
        "gdp_df = df_new.rename(columns=selected_columns)\n",
        "print(gdp_df.head())"
      ],
      "metadata": {
        "colab": {
          "base_uri": "https://localhost:8080/"
        },
        "id": "fmkokUggUjyO",
        "outputId": "98e2966f-a4a5-40cb-eb6c-3a01e4c6f653"
      },
      "execution_count": null,
      "outputs": [
        {
          "output_type": "stream",
          "name": "stdout",
          "text": [
            "         Country   MVF_2024 WorldBank_2023   OON_2022\n",
            "0          World  109529216      105435540  100834796\n",
            "1  United States   28781083       27360935   25744100\n",
            "2          China   18532633       17794782   17963170\n",
            "3        Germany    4591100        4456081    4076923\n",
            "4          Japan    4110452        4212945    4232173\n"
          ]
        }
      ]
    },
    {
      "cell_type": "markdown",
      "source": [
        "5. Визначити тип даних.\n"
      ],
      "metadata": {
        "id": "OizBYINGE6-U"
      }
    },
    {
      "cell_type": "code",
      "source": [
        "print(gdp_df.dtypes)"
      ],
      "metadata": {
        "colab": {
          "base_uri": "https://localhost:8080/"
        },
        "id": "GeEDqthrE8sx",
        "outputId": "ace37333-0403-488f-c355-14aef3fd9b0d"
      },
      "execution_count": null,
      "outputs": [
        {
          "output_type": "stream",
          "name": "stdout",
          "text": [
            "Country           object\n",
            "MVF_2024          object\n",
            "WorldBank_2023    object\n",
            "OON_2022          object\n",
            "dtype: object\n"
          ]
        }
      ]
    },
    {
      "cell_type": "markdown",
      "source": [
        "6. Замініть у таблиці значення \"—\" на значення NaN. Перевірити\n",
        "наявність пропущених значень. При наявності, замінити пропущені\n",
        "значення на середнє значення.\n"
      ],
      "metadata": {
        "id": "MbSjsyWuE9Hd"
      }
    },
    {
      "cell_type": "code",
      "source": [
        "print(gdp_df.isnull().sum())"
      ],
      "metadata": {
        "colab": {
          "base_uri": "https://localhost:8080/"
        },
        "id": "mF2cKwX_E-tk",
        "outputId": "99db944d-a554-49d3-b3b3-1cff8397e0d0"
      },
      "execution_count": null,
      "outputs": [
        {
          "output_type": "stream",
          "name": "stdout",
          "text": [
            "Country            0\n",
            "MVF_2024          15\n",
            "WorldBank_2023     8\n",
            "OON_2022           1\n",
            "dtype: int64\n"
          ]
        }
      ]
    },
    {
      "cell_type": "code",
      "source": [
        "gdp_df.replace('—', float('nan'), inplace=True)\n",
        "\n",
        "gdp_df['MVF_2024'] = pd.to_numeric(gdp_df['MVF_2024'], errors='coerce')\n",
        "gdp_df['WorldBank_2023'] = pd.to_numeric(gdp_df['WorldBank_2023'], errors='coerce')\n",
        "gdp_df['OON_2022'] = pd.to_numeric(gdp_df['OON_2022'], errors='coerce')\n",
        "\n",
        "print(\"Типи дпних після конвертації:\\n\", gdp_df.dtypes)\n",
        "\n",
        "print(gdp_df.head())"
      ],
      "metadata": {
        "colab": {
          "base_uri": "https://localhost:8080/"
        },
        "id": "or2KCEaiJiMJ",
        "outputId": "c54cc6c0-921a-4186-ffec-c1ee76d6128b"
      },
      "execution_count": null,
      "outputs": [
        {
          "output_type": "stream",
          "name": "stdout",
          "text": [
            "Типи дпних після конвертації:\n",
            " Country            object\n",
            "MVF_2024          float64\n",
            "WorldBank_2023    float64\n",
            "OON_2022          float64\n",
            "dtype: object\n",
            "         Country     MVF_2024  WorldBank_2023     OON_2022\n",
            "0          World  109529216.0     105435540.0  100834796.0\n",
            "1  United States   28781083.0      27360935.0   25744100.0\n",
            "2          China   18532633.0      17794782.0   17963170.0\n",
            "3        Germany    4591100.0       4456081.0    4076923.0\n",
            "4          Japan    4110452.0       4212945.0    4232173.0\n"
          ]
        }
      ]
    },
    {
      "cell_type": "code",
      "source": [
        "gdp_df = gdp_df.replace({'—': np.NAN})\n",
        "gdp_df = gdp_df.fillna(gdp_df.mean(numeric_only=True), axis=0)\n",
        "print(gdp_df.head)"
      ],
      "metadata": {
        "colab": {
          "base_uri": "https://localhost:8080/"
        },
        "id": "Z_I924dgju4c",
        "outputId": "48f0c0d4-c6c5-404f-962e-83e1e2547032"
      },
      "execution_count": null,
      "outputs": [
        {
          "output_type": "stream",
          "name": "stdout",
          "text": [
            "<bound method NDFrame.head of               Country     MVF_2024  WorldBank_2023     OON_2022\n",
            "0               World  109529216.0     105435540.0  100834796.0\n",
            "1       United States   28781083.0      27360935.0   25744100.0\n",
            "2               China   18532633.0      17794782.0   17963170.0\n",
            "3             Germany    4591100.0       4456081.0    4076923.0\n",
            "4               Japan    4110452.0       4212945.0    4232173.0\n",
            "..                ...          ...             ...          ...\n",
            "205          Kiribati        311.0           279.0        223.0\n",
            "206             Palau        308.0           263.0        225.0\n",
            "207  Marshall Islands        305.0           284.0        279.0\n",
            "208             Nauru        161.0           154.0        147.0\n",
            "209            Tuvalu         66.0            62.0         59.0\n",
            "\n",
            "[210 rows x 4 columns]>\n"
          ]
        }
      ]
    },
    {
      "cell_type": "markdown",
      "source": [
        "7. Ще раз перевірити наявність пропущених значень."
      ],
      "metadata": {
        "id": "oGylInltE_tE"
      }
    },
    {
      "cell_type": "code",
      "source": [
        "print(gdp_df.isnull().sum())"
      ],
      "metadata": {
        "colab": {
          "base_uri": "https://localhost:8080/"
        },
        "id": "KxDgOaDKjdDP",
        "outputId": "9c8110c2-9830-4053-dfa7-a4359341b988"
      },
      "execution_count": null,
      "outputs": [
        {
          "output_type": "stream",
          "name": "stdout",
          "text": [
            "Country           0\n",
            "MVF_2024          0\n",
            "WorldBank_2023    0\n",
            "OON_2022          0\n",
            "dtype: int64\n"
          ]
        }
      ]
    },
    {
      "cell_type": "markdown",
      "source": [
        "9. Вивести описову статистику датасету describe()\n"
      ],
      "metadata": {
        "id": "5OoPyVJDFDJh"
      }
    },
    {
      "cell_type": "code",
      "source": [
        "print(gdp_df.describe())"
      ],
      "metadata": {
        "colab": {
          "base_uri": "https://localhost:8080/"
        },
        "id": "-zpDIjs7FEab",
        "outputId": "e5dd1aac-1b66-4d4e-e3f6-d0293c5d00ae"
      },
      "execution_count": null,
      "outputs": [
        {
          "output_type": "stream",
          "name": "stdout",
          "text": [
            "           MVF_2024  WorldBank_2023      OON_2022\n",
            "count  2.100000e+02    2.100000e+02  2.100000e+02\n",
            "mean   1.123228e+06    1.037206e+06  9.612699e+05\n",
            "std    7.900707e+06    7.602076e+06  7.275608e+06\n",
            "min    6.600000e+01    6.200000e+01  5.900000e+01\n",
            "25%    1.464775e+04    1.044175e+04  8.928250e+03\n",
            "50%    6.215800e+04    4.341600e+04  3.210250e+04\n",
            "75%    4.366365e+05    3.376592e+05  2.412485e+05\n",
            "max    1.095292e+08    1.054355e+08  1.008348e+08\n"
          ]
        }
      ]
    },
    {
      "cell_type": "markdown",
      "source": [
        "10. Визначте відхилення (різницю) між показниками MVF_2024 та\n",
        "WorldBank_2023 для кожної країни. У яких країнах ці показники\n",
        "найбільше відрізняються (дати відповідт)?"
      ],
      "metadata": {
        "id": "ziVzV10DFEwy"
      }
    },
    {
      "cell_type": "code",
      "source": [
        "gdp_df['Difference_MVF_WB'] = gdp_df['MVF_2024'] - gdp_df['WorldBank_2023']\n",
        "\n",
        "# Знайдемо країни з найбільшим і найменшим відхиленням\n",
        "max_diff_country = gdp_df.loc[gdp_df['Difference_MVF_WB'].idxmax(), 'Country']\n",
        "min_diff_country = gdp_df.loc[gdp_df['Difference_MVF_WB'].idxmin(), 'Country']\n",
        "\n",
        "print(f\"Найбільше відхилення між MVF_2024 та WorldBank_2023 у країни: {max_diff_country}\")\n",
        "print(f\"Найменше відхилення між MVF_2024 та WorldBank_2023 у країни: {min_diff_country}\")\n"
      ],
      "metadata": {
        "colab": {
          "base_uri": "https://localhost:8080/"
        },
        "id": "ASzPTmuQFFkF",
        "outputId": "df782a88-38fc-426f-d806-a2875312833d"
      },
      "execution_count": null,
      "outputs": [
        {
          "output_type": "stream",
          "name": "stdout",
          "text": [
            "Найбільше відхилення між MVF_2024 та WorldBank_2023 у країни: World\n",
            "Найменше відхилення між MVF_2024 та WorldBank_2023 у країни: South Sudan\n"
          ]
        }
      ]
    },
    {
      "cell_type": "markdown",
      "source": [
        "11.Обчисліть кореляцію між показниками MVF_2024, WorldBank_2023 та\n",
        "OON_2022. Які пари змінних мають найвищу кореляцію?"
      ],
      "metadata": {
        "id": "rwVe46F6FGTz"
      }
    },
    {
      "cell_type": "code",
      "source": [
        "correlation = gdp_df[['MVF_2024', 'WorldBank_2023', 'OON_2022']].corr()\n",
        "print(\"Кореляція між показниками:\\n\", correlation)"
      ],
      "metadata": {
        "colab": {
          "base_uri": "https://localhost:8080/"
        },
        "id": "mpgxLnSuFKh-",
        "outputId": "25fca56d-fca3-4cc7-8526-c5c590287fb9"
      },
      "execution_count": null,
      "outputs": [
        {
          "output_type": "stream",
          "name": "stdout",
          "text": [
            "Кореляція між показниками:\n",
            "                 MVF_2024  WorldBank_2023  OON_2022\n",
            "MVF_2024        1.000000        0.999351  0.999246\n",
            "WorldBank_2023  0.999351        1.000000  0.999656\n",
            "OON_2022        0.999246        0.999656  1.000000\n"
          ]
        }
      ]
    },
    {
      "cell_type": "markdown",
      "source": [
        "12.Обчисліть середнє значення для кожного стовпця (MVF_2024,\n",
        "WorldBank_2023, OON_2022). Як це середнє значення змінюється між\n",
        "роками?"
      ],
      "metadata": {
        "id": "QLn-CEcwFK56"
      }
    },
    {
      "cell_type": "code",
      "source": [
        "mean_values = gdp_df[['MVF_2024', 'WorldBank_2023', 'OON_2022']].mean()\n",
        "print(\"Середнє значення для кожного року:\\n\", mean_values)"
      ],
      "metadata": {
        "colab": {
          "base_uri": "https://localhost:8080/"
        },
        "id": "JAn3rbMGFMRP",
        "outputId": "6a3749c9-593a-4583-ff6e-5325fb2f23a5"
      },
      "execution_count": null,
      "outputs": [
        {
          "output_type": "stream",
          "name": "stdout",
          "text": [
            "Середнє значення для кожного року:\n",
            " MVF_2024          1.123228e+06\n",
            "WorldBank_2023    1.037206e+06\n",
            "OON_2022          9.612699e+05\n",
            "dtype: float64\n"
          ]
        }
      ]
    },
    {
      "cell_type": "markdown",
      "source": [
        "13.Обчисліть стандартне відхилення показників для кожної країни. Яка\n",
        "країна має найвищу варіативність у показниках між роками?\n"
      ],
      "metadata": {
        "id": "0t145E3KFMpJ"
      }
    },
    {
      "cell_type": "code",
      "source": [
        "gdp_df['StdDev'] = gdp_df[['MVF_2024', 'WorldBank_2023', 'OON_2022']].std(axis=1)\n",
        "\n",
        "# Знайдемо країну з найбільшою варіативністю між роками\n",
        "max_var_country = gdp_df.loc[gdp_df['StdDev'].idxmax(), 'Country']\n",
        "print(f\"Країна з найбільшою варіативністю показників між роками: {max_var_country}\")\n"
      ],
      "metadata": {
        "colab": {
          "base_uri": "https://localhost:8080/"
        },
        "id": "p4QpMOhhFNzN",
        "outputId": "2b1647ca-2b8b-40af-8bde-2f63c5ada1e6"
      },
      "execution_count": null,
      "outputs": [
        {
          "output_type": "stream",
          "name": "stdout",
          "text": [
            "Країна з найбільшою варіативністю показників між роками: World\n"
          ]
        }
      ]
    },
    {
      "cell_type": "markdown",
      "source": [
        "14.Визначення країни з найвищим та найнижчим показниками: Знайдіть\n",
        "країну з найвищим та найнижчим показниками у кожному з років\n",
        "(MVF_2024, WorldBank_2023, OON_2022)."
      ],
      "metadata": {
        "id": "hI1Mx2AqFOQ2"
      }
    },
    {
      "cell_type": "code",
      "source": [
        "max_MVF_2024 = gdp_df.loc[gdp_df['MVF_2024'].idxmax(), 'Country']\n",
        "min_MVF_2024 = gdp_df.loc[gdp_df['MVF_2024'].idxmin(), 'Country']\n",
        "\n",
        "max_WB_2023 = gdp_df.loc[gdp_df['WorldBank_2023'].idxmax(), 'Country']\n",
        "min_WB_2023 = gdp_df.loc[gdp_df['WorldBank_2023'].idxmin(), 'Country']\n",
        "\n",
        "max_OON_2022 = gdp_df.loc[gdp_df['OON_2022'].idxmax(), 'Country']\n",
        "min_OON_2022 = gdp_df.loc[gdp_df['OON_2022'].idxmin(), 'Country']\n",
        "\n",
        "print(f\"Найвищий MVF_2024 у країни: {max_MVF_2024}, найнижчий у країни: {min_MVF_2024}\")\n",
        "print(f\"Найвищий WorldBank_2023 у країни: {max_WB_2023}, найнижчий у країни: {min_WB_2023}\")\n",
        "print(f\"Найвищий OON_2022 у країни: {max_OON_2022}, найнижчий у країни: {min_OON_2022}\")\n"
      ],
      "metadata": {
        "colab": {
          "base_uri": "https://localhost:8080/"
        },
        "id": "CPdJ9-JsFQBc",
        "outputId": "d2d7ef32-f87a-4ea5-d2ba-52a568acfd93"
      },
      "execution_count": null,
      "outputs": [
        {
          "output_type": "stream",
          "name": "stdout",
          "text": [
            "Найвищий MVF_2024 у країни: World, найнижчий у країни: Tuvalu\n",
            "Найвищий WorldBank_2023 у країни: World, найнижчий у країни: Tuvalu\n",
            "Найвищий OON_2022 у країни: World, найнижчий у країни: Tuvalu\n"
          ]
        }
      ]
    },
    {
      "cell_type": "markdown",
      "source": [
        "15.Побудуйте гістограму для розподілу показників MVF_2024 серед всіх\n",
        "країн. Який вигляд має розподіл? Чи є країни, що виділяються?"
      ],
      "metadata": {
        "id": "D0zY7dJtFQay"
      }
    },
    {
      "cell_type": "code",
      "source": [
        "import matplotlib.pyplot as plt\n",
        "\n",
        "plt.hist(gdp_df['MVF_2024'].dropna(), bins=20)\n",
        "plt.title('Розподіл показників MVF_2024')\n",
        "plt.xlabel('MVF_2024 (млн. дол. США)')\n",
        "plt.ylabel('Кількість країн')\n",
        "plt.show()"
      ],
      "metadata": {
        "colab": {
          "base_uri": "https://localhost:8080/",
          "height": 472
        },
        "id": "GEIsNjccFRsG",
        "outputId": "79493028-f618-4dc0-a7ac-56c0ffdf6c9a"
      },
      "execution_count": null,
      "outputs": [
        {
          "output_type": "display_data",
          "data": {
            "text/plain": [
              "<Figure size 640x480 with 1 Axes>"
            ],
            "image/png": "[encoded data removed]"
          },
          "metadata": {}
        }
      ]
    },
    {
      "cell_type": "markdown",
      "source": [
        "16.Розрахуйте частку кожної країни в загальному значенні для кожного\n",
        "року (MVF_2024, WorldBank_2023, OON_2022). Як змінюються частки\n",
        "країн з часом (дати відповідь)?"
      ],
      "metadata": {
        "id": "FtijkYweFSP_"
      }
    },
    {
      "cell_type": "code",
      "source": [
        "gdp_df['Share_MVF_2024'] = gdp_df['MVF_2024'] / gdp_df['MVF_2024'].sum()\n",
        "gdp_df['Share_WB_2023'] = gdp_df['WorldBank_2023'] / gdp_df['WorldBank_2023'].sum()\n",
        "gdp_df['Share_OON_2022'] = gdp_df['OON_2022'] / gdp_df['OON_2022'].sum()\n",
        "\n",
        "print(\"Частки країн за роками:\\n\", gdp_df[['Country', 'Share_MVF_2024', 'Share_WB_2023', 'Share_OON_2022']])"
      ],
      "metadata": {
        "colab": {
          "base_uri": "https://localhost:8080/"
        },
        "id": "15EEIgd3FSvk",
        "outputId": "d2bd4130-982c-46cc-9582-19b5ea534ace"
      },
      "execution_count": null,
      "outputs": [
        {
          "output_type": "stream",
          "name": "stdout",
          "text": [
            "Частки країн за роками:\n",
            "               Country  Share_MVF_2024  Share_WB_2023  Share_OON_2022\n",
            "0               World    4.643473e-01   4.840638e-01    4.995119e-01\n",
            "1       United States    1.220169e-01   1.256165e-01    1.275302e-01\n",
            "2               China    7.856878e-02   8.169741e-02    8.898532e-02\n",
            "3             Germany    1.946389e-02   2.045826e-02    2.019612e-02\n",
            "4               Japan    1.742619e-02   1.934200e-02    2.096519e-02\n",
            "..                ...             ...            ...             ...\n",
            "205          Kiribati    1.318479e-06   1.280914e-06    1.104690e-06\n",
            "206             Palau    1.305761e-06   1.207456e-06    1.114597e-06\n",
            "207  Marshall Islands    1.293042e-06   1.303869e-06    1.382100e-06\n",
            "208             Nauru    6.825568e-07   7.070275e-07    7.282034e-07\n",
            "209            Tuvalu    2.798059e-07   2.846475e-07    2.922721e-07\n",
            "\n",
            "[210 rows x 4 columns]\n"
          ]
        }
      ]
    },
    {
      "cell_type": "markdown",
      "source": [
        "17.Візуалізуйте зміни в показниках для кожної країни за три роки на\n",
        "графіку. Які країни показують стабільне зростання або спад (дати\n",
        "відповідь)?"
      ],
      "metadata": {
        "id": "fOrCQYdFFTMg"
      }
    },
    {
      "cell_type": "code",
      "source": [
        "gdp_df.set_index('Country')[['MVF_2024', 'WorldBank_2023', 'OON_2022']].plot(kind='line', figsize=(10, 6))\n",
        "plt.title('Зміни показників за три роки')\n",
        "plt.ylabel('ВВП (млн. дол. США)')\n",
        "plt.xlabel('Країни')\n",
        "plt.xticks(rotation=90)\n",
        "plt.show()"
      ],
      "metadata": {
        "colab": {
          "base_uri": "https://localhost:8080/",
          "height": 608
        },
        "id": "X8w4bjpYFWDl",
        "outputId": "0efb29c9-334b-4ff7-9a22-6139d72129c3"
      },
      "execution_count": null,
      "outputs": [
        {
          "output_type": "display_data",
          "data": {
            "text/plain": [
              "<Figure size 1000x600 with 1 Axes>"
            ],
            "image/png": "[encoded data removed]"
          },
          "metadata": {}
        }
      ]
    },
    {
      "cell_type": "markdown",
      "source": [
        "#Завдання 2"
      ],
      "metadata": {
        "id": "z38SomMlmPa9"
      }
    },
    {
      "cell_type": "markdown",
      "source": [
        "1. Вивести перших 5 рядків."
      ],
      "metadata": {
        "id": "KcNPzHfuJxn3"
      }
    },
    {
      "cell_type": "code",
      "source": [
        "from google.colab import drive\n",
        "drive.mount('/content/drive')\n",
        "\n",
        "\n",
        "\n",
        "# Прочитайте csv файл\n",
        "file_path = '/content/drive/My Drive/titanic.csv'\n",
        "\n",
        "df = pd.read_csv(file_path)\n",
        "\n",
        "# Виведіть перші п'ять рядків\n",
        "print(df.head())"
      ],
      "metadata": {
        "colab": {
          "base_uri": "https://localhost:8080/"
        },
        "id": "Tw0XhJUBmUXZ",
        "outputId": "0cfd81a5-b6f1-4ca6-92e0-8f0156f66e33"
      },
      "execution_count": 28,
      "outputs": [
        {
          "output_type": "stream",
          "name": "stdout",
          "text": [
            "Drive already mounted at /content/drive; to attempt to forcibly remount, call drive.mount(\"/content/drive\", force_remount=True).\n",
            "   PassengerId  Survived  Pclass  \\\n",
            "0          892         0       3   \n",
            "1          893         1       3   \n",
            "2          894         0       2   \n",
            "3          895         0       3   \n",
            "4          896         1       3   \n",
            "\n",
            "                                           Name     Sex   Age  SibSp  Parch  \\\n",
            "0                              Kelly, Mr. James    male  34.5      0      0   \n",
            "1              Wilkes, Mrs. James (Ellen Needs)  female  47.0      1      0   \n",
            "2                     Myles, Mr. Thomas Francis    male  62.0      0      0   \n",
            "3                              Wirz, Mr. Albert    male  27.0      0      0   \n",
            "4  Hirvonen, Mrs. Alexander (Helga E Lindqvist)  female  22.0      1      1   \n",
            "\n",
            "    Ticket     Fare Cabin Embarked  \n",
            "0   330911   7.8292   NaN        Q  \n",
            "1   363272   7.0000   NaN        S  \n",
            "2   240276   9.6875   NaN        Q  \n",
            "3   315154   8.6625   NaN        S  \n",
            "4  3101298  12.2875   NaN        S  \n"
          ]
        }
      ]
    },
    {
      "cell_type": "markdown",
      "source": [
        "2. Визначити розмір датасета."
      ],
      "metadata": {
        "id": "8-xA2AmEJ2VQ"
      }
    },
    {
      "cell_type": "code",
      "source": [
        "df.shape"
      ],
      "metadata": {
        "colab": {
          "base_uri": "https://localhost:8080/"
        },
        "id": "kJ4l9aYAJ4ja",
        "outputId": "3f128bfe-a7b9-4b82-b27e-2230a2c75617"
      },
      "execution_count": 29,
      "outputs": [
        {
          "output_type": "execute_result",
          "data": {
            "text/plain": [
              "(418, 12)"
            ]
          },
          "metadata": {},
          "execution_count": 29
        }
      ]
    },
    {
      "cell_type": "markdown",
      "source": [
        "3. Визначити тип даних."
      ],
      "metadata": {
        "id": "jFTO7qdJJ5Y1"
      }
    },
    {
      "cell_type": "code",
      "source": [
        "print(df.dtypes)"
      ],
      "metadata": {
        "colab": {
          "base_uri": "https://localhost:8080/"
        },
        "id": "uS9X08CSJ7Ey",
        "outputId": "1924d589-2458-4b29-ec61-02de5a9210cc"
      },
      "execution_count": 30,
      "outputs": [
        {
          "output_type": "stream",
          "name": "stdout",
          "text": [
            "PassengerId      int64\n",
            "Survived         int64\n",
            "Pclass           int64\n",
            "Name            object\n",
            "Sex             object\n",
            "Age            float64\n",
            "SibSp            int64\n",
            "Parch            int64\n",
            "Ticket          object\n",
            "Fare           float64\n",
            "Cabin           object\n",
            "Embarked        object\n",
            "dtype: object\n"
          ]
        }
      ]
    },
    {
      "cell_type": "markdown",
      "source": [
        "4. Визначити наявність пропущених значень. При наявності, замінити\n",
        "пропущені значення на середнє значення."
      ],
      "metadata": {
        "id": "WNZkHhAyJ8bC"
      }
    },
    {
      "cell_type": "code",
      "source": [
        "print(df.isnull().sum())"
      ],
      "metadata": {
        "colab": {
          "base_uri": "https://localhost:8080/"
        },
        "id": "mahNko7jJ74E",
        "outputId": "de5e3d09-a6d0-489e-8a50-c39f3aa3a7de"
      },
      "execution_count": 31,
      "outputs": [
        {
          "output_type": "stream",
          "name": "stdout",
          "text": [
            "PassengerId      0\n",
            "Survived         0\n",
            "Pclass           0\n",
            "Name             0\n",
            "Sex              0\n",
            "Age             86\n",
            "SibSp            0\n",
            "Parch            0\n",
            "Ticket           0\n",
            "Fare             1\n",
            "Cabin          327\n",
            "Embarked         0\n",
            "dtype: int64\n"
          ]
        }
      ]
    },
    {
      "cell_type": "code",
      "source": [
        "df['Age'].fillna(df['Age'].mean(), inplace=True)\n",
        "df['Fare'].fillna(df['Fare'].mean(), inplace=True)"
      ],
      "metadata": {
        "id": "I1rDS0j2NM-N"
      },
      "execution_count": 32,
      "outputs": []
    },
    {
      "cell_type": "markdown",
      "source": [
        "5. Ще раз перевірити наявність пропущених значень."
      ],
      "metadata": {
        "id": "42X3qZy3J_ZQ"
      }
    },
    {
      "cell_type": "code",
      "source": [
        "print(df.isnull().sum())"
      ],
      "metadata": {
        "colab": {
          "base_uri": "https://localhost:8080/"
        },
        "id": "GD00mhfCKBBC",
        "outputId": "80e991d4-b9f6-44b8-ddb3-f0d9fae86644"
      },
      "execution_count": 33,
      "outputs": [
        {
          "output_type": "stream",
          "name": "stdout",
          "text": [
            "PassengerId      0\n",
            "Survived         0\n",
            "Pclass           0\n",
            "Name             0\n",
            "Sex              0\n",
            "Age              0\n",
            "SibSp            0\n",
            "Parch            0\n",
            "Ticket           0\n",
            "Fare             0\n",
            "Cabin          327\n",
            "Embarked         0\n",
            "dtype: int64\n"
          ]
        }
      ]
    },
    {
      "cell_type": "markdown",
      "source": [
        "6. Перевірити наявність дублікатів. При наявності видалити дублікати."
      ],
      "metadata": {
        "id": "4wgfrA_aKBn4"
      }
    },
    {
      "cell_type": "code",
      "source": [
        "duplicates = df.duplicated().sum()\n",
        "print(f\"Кількість дублікатів: {duplicates}\")\n",
        "\n",
        "if duplicates > 0:\n",
        "    df.drop_duplicates(inplace=True)"
      ],
      "metadata": {
        "colab": {
          "base_uri": "https://localhost:8080/"
        },
        "id": "1hLnIn_gKDTP",
        "outputId": "c18ad38b-f1b5-4a8b-a192-411c89f03de8"
      },
      "execution_count": 34,
      "outputs": [
        {
          "output_type": "stream",
          "name": "stdout",
          "text": [
            "Кількість дублікатів: 0\n"
          ]
        }
      ]
    },
    {
      "cell_type": "markdown",
      "source": [
        "7. Вивести описову статистику датасету describe()"
      ],
      "metadata": {
        "id": "Vz8FcVnTKD31"
      }
    },
    {
      "cell_type": "code",
      "source": [
        "print(df.describe())"
      ],
      "metadata": {
        "colab": {
          "base_uri": "https://localhost:8080/"
        },
        "id": "0llQgtCJKFYy",
        "outputId": "1159bea3-415d-413f-8145-3ed93104e30d"
      },
      "execution_count": 35,
      "outputs": [
        {
          "output_type": "stream",
          "name": "stdout",
          "text": [
            "       PassengerId    Survived      Pclass         Age       SibSp  \\\n",
            "count   418.000000  418.000000  418.000000  418.000000  418.000000   \n",
            "mean   1100.500000    0.363636    2.265550   30.272590    0.447368   \n",
            "std     120.810458    0.481622    0.841838   12.634534    0.896760   \n",
            "min     892.000000    0.000000    1.000000    0.170000    0.000000   \n",
            "25%     996.250000    0.000000    1.000000   23.000000    0.000000   \n",
            "50%    1100.500000    0.000000    3.000000   30.272590    0.000000   \n",
            "75%    1204.750000    1.000000    3.000000   35.750000    1.000000   \n",
            "max    1309.000000    1.000000    3.000000   76.000000    8.000000   \n",
            "\n",
            "            Parch        Fare  \n",
            "count  418.000000  418.000000  \n",
            "mean     0.392344   35.627188  \n",
            "std      0.981429   55.840500  \n",
            "min      0.000000    0.000000  \n",
            "25%      0.000000    7.895800  \n",
            "50%      0.000000   14.454200  \n",
            "75%      0.000000   31.500000  \n",
            "max      9.000000  512.329200  \n"
          ]
        }
      ]
    },
    {
      "cell_type": "markdown",
      "source": [
        "8. Видалити стовпчик Cabin"
      ],
      "metadata": {
        "id": "6TXqQuKoKGR0"
      }
    },
    {
      "cell_type": "code",
      "source": [
        "df.drop('Cabin', axis=1, inplace=True)"
      ],
      "metadata": {
        "id": "R-GFdKTaKHyk"
      },
      "execution_count": 36,
      "outputs": []
    },
    {
      "cell_type": "code",
      "source": [
        "print(df.head())"
      ],
      "metadata": {
        "colab": {
          "base_uri": "https://localhost:8080/"
        },
        "id": "RCtUNk_LRtpg",
        "outputId": "374f2f8c-8125-4410-e189-b2addfc929fe"
      },
      "execution_count": 38,
      "outputs": [
        {
          "output_type": "stream",
          "name": "stdout",
          "text": [
            "   PassengerId  Survived  Pclass  \\\n",
            "0          892         0       3   \n",
            "1          893         1       3   \n",
            "2          894         0       2   \n",
            "3          895         0       3   \n",
            "4          896         1       3   \n",
            "\n",
            "                                           Name     Sex   Age  SibSp  Parch  \\\n",
            "0                              Kelly, Mr. James    male  34.5      0      0   \n",
            "1              Wilkes, Mrs. James (Ellen Needs)  female  47.0      1      0   \n",
            "2                     Myles, Mr. Thomas Francis    male  62.0      0      0   \n",
            "3                              Wirz, Mr. Albert    male  27.0      0      0   \n",
            "4  Hirvonen, Mrs. Alexander (Helga E Lindqvist)  female  22.0      1      1   \n",
            "\n",
            "    Ticket     Fare Embarked  \n",
            "0   330911   7.8292        Q  \n",
            "1   363272   7.0000        S  \n",
            "2   240276   9.6875        Q  \n",
            "3   315154   8.6625        S  \n",
            "4  3101298  12.2875        S  \n"
          ]
        }
      ]
    },
    {
      "cell_type": "markdown",
      "source": [
        "9. Сформувати датасет з обраними стовпцями:\n",
        "['Survived', 'Pclass', 'Sex', 'Age', 'Fare']]"
      ],
      "metadata": {
        "id": "wg0riN2nKIR-"
      }
    },
    {
      "cell_type": "code",
      "source": [
        "selected_columns = ['Survived', 'Pclass', 'Sex', 'Age', 'Fare']\n",
        "df = df[selected_columns]\n",
        "print(df.head())"
      ],
      "metadata": {
        "colab": {
          "base_uri": "https://localhost:8080/"
        },
        "id": "ArC7MdBgKJu8",
        "outputId": "8b1a4f9a-8d61-4144-c4a6-0ac5fd97e1a0"
      },
      "execution_count": 37,
      "outputs": [
        {
          "output_type": "stream",
          "name": "stdout",
          "text": [
            "   Survived  Pclass     Sex   Age     Fare\n",
            "0         0       3    male  34.5   7.8292\n",
            "1         1       3  female  47.0   7.0000\n",
            "2         0       2    male  62.0   9.6875\n",
            "3         0       3    male  27.0   8.6625\n",
            "4         1       3  female  22.0  12.2875\n"
          ]
        }
      ]
    },
    {
      "cell_type": "markdown",
      "source": [
        "10. Замінити бінарні ознаки (Стать) на 0 і 1 (але перевірте унікальні\n",
        "значення даного стовпчика)."
      ],
      "metadata": {
        "id": "MKQ5IxsMKKbf"
      }
    },
    {
      "cell_type": "code",
      "source": [
        "print(df['Sex'].unique())"
      ],
      "metadata": {
        "colab": {
          "base_uri": "https://localhost:8080/"
        },
        "id": "SEu4LrQ3KMPG",
        "outputId": "59a700d5-2adb-4ce1-bfff-ed5b749f5c5f"
      },
      "execution_count": 39,
      "outputs": [
        {
          "output_type": "stream",
          "name": "stdout",
          "text": [
            "['male' 'female']\n"
          ]
        }
      ]
    },
    {
      "cell_type": "code",
      "source": [
        "df['Sex'] = df['Sex'].replace({'female': 1, 'male': 0}).astype(int)\n",
        "print(df.head())"
      ],
      "metadata": {
        "colab": {
          "base_uri": "https://localhost:8080/"
        },
        "id": "Cs9S96GVPF48",
        "outputId": "111e63f9-73de-491c-f8e4-46f6b7f61f04"
      },
      "execution_count": 41,
      "outputs": [
        {
          "output_type": "stream",
          "name": "stdout",
          "text": [
            "   Survived  Pclass  Sex   Age     Fare\n",
            "0         0       3    0  34.5   7.8292\n",
            "1         1       3    1  47.0   7.0000\n",
            "2         0       2    0  62.0   9.6875\n",
            "3         0       3    0  27.0   8.6625\n",
            "4         1       3    1  22.0  12.2875\n"
          ]
        },
        {
          "output_type": "stream",
          "name": "stderr",
          "text": [
            "<ipython-input-41-13d98daef6bf>:1: SettingWithCopyWarning: \n",
            "A value is trying to be set on a copy of a slice from a DataFrame.\n",
            "Try using .loc[row_indexer,col_indexer] = value instead\n",
            "\n",
            "See the caveats in the documentation: https://pandas.pydata.org/pandas-docs/stable/user_guide/indexing.html#returning-a-view-versus-a-copy\n",
            "  df_selected['Sex'] = df_selected['Sex'].replace({'female': 1, 'male': 0}).astype(int)\n"
          ]
        }
      ]
    },
    {
      "cell_type": "markdown",
      "source": [
        "11. Ще раз перевірити кількість пропущених даних (впевнитись, що їх\n",
        "немає)."
      ],
      "metadata": {
        "id": "iqFs2SCCKMud"
      }
    },
    {
      "cell_type": "code",
      "source": [
        "print(df.isnull().sum())"
      ],
      "metadata": {
        "colab": {
          "base_uri": "https://localhost:8080/"
        },
        "id": "0wbpV3DERddq",
        "outputId": "2579ec12-a646-4613-9b0c-908e83816655"
      },
      "execution_count": 40,
      "outputs": [
        {
          "output_type": "stream",
          "name": "stdout",
          "text": [
            "Survived    0\n",
            "Pclass      0\n",
            "Sex         0\n",
            "Age         0\n",
            "Fare        0\n",
            "dtype: int64\n"
          ]
        }
      ]
    },
    {
      "cell_type": "markdown",
      "source": [
        "12. Вивести 5 перших рядків датасету."
      ],
      "metadata": {
        "id": "0BriTGOsKO0U"
      }
    },
    {
      "cell_type": "code",
      "source": [
        "print(df.head())"
      ],
      "metadata": {
        "colab": {
          "base_uri": "https://localhost:8080/"
        },
        "id": "VAw0VRJ-KQTg",
        "outputId": "7a858c2c-3c26-4c8b-cb23-4030d1ac6fbf"
      },
      "execution_count": 42,
      "outputs": [
        {
          "output_type": "stream",
          "name": "stdout",
          "text": [
            "   Survived  Pclass  Sex   Age     Fare\n",
            "0         0       3    0  34.5   7.8292\n",
            "1         1       3    1  47.0   7.0000\n",
            "2         0       2    0  62.0   9.6875\n",
            "3         0       3    0  27.0   8.6625\n",
            "4         1       3    1  22.0  12.2875\n"
          ]
        }
      ]
    },
    {
      "cell_type": "markdown",
      "source": [
        "13. Вивести 5 останніх рядків датасету."
      ],
      "metadata": {
        "id": "eB9sJ1RrKQnD"
      }
    },
    {
      "cell_type": "code",
      "source": [
        "print(df.tail())"
      ],
      "metadata": {
        "colab": {
          "base_uri": "https://localhost:8080/"
        },
        "id": "LJdm3UmBKTT5",
        "outputId": "ff8ebf60-a98b-488c-b734-63afcf2a4a71"
      },
      "execution_count": 43,
      "outputs": [
        {
          "output_type": "stream",
          "name": "stdout",
          "text": [
            "     Survived  Pclass  Sex       Age      Fare\n",
            "413         0       3    0  30.27259    8.0500\n",
            "414         1       1    1  39.00000  108.9000\n",
            "415         0       3    0  38.50000    7.2500\n",
            "416         0       3    0  30.27259    8.0500\n",
            "417         0       3    0  30.27259   22.3583\n"
          ]
        }
      ]
    },
    {
      "cell_type": "markdown",
      "source": [
        "14.Аналіз виживання залежно від статі: Обчисліть відсоток виживання\n",
        "для кожної статі. Чи була різниця у виживанні між чоловіками та\n",
        "жінками?"
      ],
      "metadata": {
        "id": "xlZaGS--KTnz"
      }
    },
    {
      "cell_type": "code",
      "source": [
        "survival_by_sex = df.groupby('Sex')['Survived'].mean() * 100\n",
        "print(\"Відсоток виживання за статтю:\\n\", survival_by_sex)"
      ],
      "metadata": {
        "colab": {
          "base_uri": "https://localhost:8080/"
        },
        "id": "4xZNTv5hKYWH",
        "outputId": "bd98a399-8fe4-492d-ab6e-b543d8bb271a"
      },
      "execution_count": 44,
      "outputs": [
        {
          "output_type": "stream",
          "name": "stdout",
          "text": [
            "Відсоток виживання за статтю:\n",
            " Sex\n",
            "0      0.0\n",
            "1    100.0\n",
            "Name: Survived, dtype: float64\n"
          ]
        }
      ]
    },
    {
      "cell_type": "markdown",
      "source": [
        "15. Обчисліть відсоток виживання для кожного класу (Pclass). Який\n",
        "клас мав найвищий рівень виживання (дати відповідь)?\n"
      ],
      "metadata": {
        "id": "YdTd7ZdRKYze"
      }
    },
    {
      "cell_type": "code",
      "source": [
        "survival_by_class = df.groupby('Pclass')['Survived'].mean() * 100\n",
        "print(\"Відсоток виживання за класом:\\n\", survival_by_class)\n"
      ],
      "metadata": {
        "colab": {
          "base_uri": "https://localhost:8080/"
        },
        "id": "ng0wToidKabE",
        "outputId": "9f74d263-ebef-42d4-c7e1-c63e297f8cbf"
      },
      "execution_count": 45,
      "outputs": [
        {
          "output_type": "stream",
          "name": "stdout",
          "text": [
            "Відсоток виживання за класом:\n",
            " Pclass\n",
            "1    46.728972\n",
            "2    32.258065\n",
            "3    33.027523\n",
            "Name: Survived, dtype: float64\n"
          ]
        }
      ]
    },
    {
      "cell_type": "markdown",
      "source": [
        "16. Визначте середній вік тих, хто вижив, і тих, хто не вижив. Чи\n",
        "впливає вік на виживання (дати відповідь)?"
      ],
      "metadata": {
        "id": "GtC07vBYKbLk"
      }
    },
    {
      "cell_type": "code",
      "source": [
        "mean_age_by_survival = df.groupby('Survived')['Age'].mean()\n",
        "print(\"Середній вік за статусом виживання:\\n\", mean_age_by_survival)\n"
      ],
      "metadata": {
        "colab": {
          "base_uri": "https://localhost:8080/"
        },
        "id": "dA-hvw6oKcvX",
        "outputId": "3e897034-d523-4067-c0f3-ed9165857072"
      },
      "execution_count": 46,
      "outputs": [
        {
          "output_type": "stream",
          "name": "stdout",
          "text": [
            "Середній вік за статусом виживання:\n",
            " Survived\n",
            "0    30.272699\n",
            "1    30.272400\n",
            "Name: Age, dtype: float64\n"
          ]
        }
      ]
    },
    {
      "cell_type": "markdown",
      "source": [
        "17. Розподіліть пасажирів на групи за рівнями тарифів (Fare) і\n",
        "обчисліть рівень виживання для кожної групи. Як тариф впливав на\n",
        "шанси виживання (дати відповідь)?"
      ],
      "metadata": {
        "id": "xO3xygKFKdd1"
      }
    },
    {
      "cell_type": "code",
      "source": [
        "df['Fare_Group'] = pd.qcut(df['Fare'], 4, labels=False)\n",
        "survival_by_fare_group = df.groupby('Fare_Group')['Survived'].mean() * 100\n",
        "print(\"Відсоток виживання за групами тарифів:\\n\", survival_by_fare_group)\n"
      ],
      "metadata": {
        "colab": {
          "base_uri": "https://localhost:8080/"
        },
        "id": "EVcP4vqMKfQy",
        "outputId": "a8a5f4f5-7bc8-4dda-ac8c-fc35d7ee83fb"
      },
      "execution_count": 47,
      "outputs": [
        {
          "output_type": "stream",
          "name": "stdout",
          "text": [
            "Відсоток виживання за групами тарифів:\n",
            " Fare_Group\n",
            "0    26.315789\n",
            "1    27.083333\n",
            "2    39.047619\n",
            "3    53.398058\n",
            "Name: Survived, dtype: float64\n"
          ]
        },
        {
          "output_type": "stream",
          "name": "stderr",
          "text": [
            "<ipython-input-47-02d9733316ca>:1: SettingWithCopyWarning: \n",
            "A value is trying to be set on a copy of a slice from a DataFrame.\n",
            "Try using .loc[row_indexer,col_indexer] = value instead\n",
            "\n",
            "See the caveats in the documentation: https://pandas.pydata.org/pandas-docs/stable/user_guide/indexing.html#returning-a-view-versus-a-copy\n",
            "  df_selected['Fare_Group'] = pd.qcut(df_selected['Fare'], 4, labels=False)\n"
          ]
        }
      ]
    },
    {
      "cell_type": "markdown",
      "source": [
        "18. Аналіз класу та тарифу: Визначте середній тариф (Fare) для кожного\n",
        "класу (Pclass). Чи існує значна різниця у тарифах між класами (дати\n",
        "відповідь)?"
      ],
      "metadata": {
        "id": "Zfo56gvLKfsX"
      }
    },
    {
      "cell_type": "code",
      "source": [
        "mean_fare_by_class = df.groupby('Pclass')['Fare'].mean()\n",
        "print(\"Середній тариф за класом:\\n\", mean_fare_by_class)"
      ],
      "metadata": {
        "colab": {
          "base_uri": "https://localhost:8080/"
        },
        "id": "yaglub_5KiK8",
        "outputId": "6c58085d-6632-4cd1-daba-2cb44bfb3cbe"
      },
      "execution_count": 48,
      "outputs": [
        {
          "output_type": "stream",
          "name": "stdout",
          "text": [
            "Середній тариф за класом:\n",
            " Pclass\n",
            "1    94.280297\n",
            "2    22.202104\n",
            "3    12.565951\n",
            "Name: Fare, dtype: float64\n"
          ]
        }
      ]
    },
    {
      "cell_type": "markdown",
      "source": [
        "19. Обчисліть середній вік пасажирів для кожного класу (Pclass). Як вік\n",
        "пасажирів розподіляється за класами (дати відповідь)?"
      ],
      "metadata": {
        "id": "ncK-8S9nKjJd"
      }
    },
    {
      "cell_type": "code",
      "source": [
        "mean_age_by_class = df.groupby('Pclass')['Age'].mean()\n",
        "print(\"Середній вік за класом:\\n\", mean_age_by_class)"
      ],
      "metadata": {
        "colab": {
          "base_uri": "https://localhost:8080/"
        },
        "id": "g1-_YnwyKjuh",
        "outputId": "4edfd0d1-9163-46d9-dfb1-a2d8a45415fc"
      },
      "execution_count": 49,
      "outputs": [
        {
          "output_type": "stream",
          "name": "stdout",
          "text": [
            "Середній вік за класом:\n",
            " Pclass\n",
            "1    40.022928\n",
            "2    28.857881\n",
            "3    26.090397\n",
            "Name: Age, dtype: float64\n"
          ]
        }
      ]
    }
  ]
}